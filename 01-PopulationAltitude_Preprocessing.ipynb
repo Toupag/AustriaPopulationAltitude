{
 "cells": [
  {
   "cell_type": "code",
   "execution_count": null,
   "metadata": {},
   "outputs": [],
   "source": [
    "import os\n",
    "import numpy as np\n",
    "import pandas as pd\n",
    "import matplotlib.pyplot as plt\n",
    "\n",
    "import requests \n",
    "from lxml import etree "
   ]
  },
  {
   "cell_type": "markdown",
   "metadata": {},
   "source": [
    "## Import the data from the CSV files\n",
    "Special Codes are removed and only real Bezirke are selected.\n",
    "\n",
    "The english names are transformed the following way: whitespaces are replaces by underscore in order to make it easier to search DBpredia. Furthermore the additions to the names (urban area, rural area) are removed."
   ]
  },
  {
   "cell_type": "code",
   "execution_count": null,
   "metadata": {},
   "outputs": [],
   "source": [
    "# Import data from HDI file\n",
    "Population = pd.read_csv(\"./data/raw/OGD_f0743_VZ_HIS_GEM_4.csv\", sep=\";\", encoding='utf-8')\n",
    "Years = pd.read_csv(\"./data/raw/OGD_f0743_VZ_HIS_GEM_4_C-H88-0.csv\", sep=\";\", encoding='utf-8')\n",
    "Gemeinden = pd.read_csv(\"./data/raw/OGD_f0743_VZ_HIS_GEM_4_C-GRGEMAKT-0.csv\", sep=\";\", encoding='utf-8')\n",
    "MissingHM = pd.read_csv(\"./data/raw/MissingHM.csv\", sep=\";\", encoding='UTF-16')\n",
    "\n",
    "Gemeinden['en_name'] = Gemeinden['en_name'].astype(str)\n",
    "# Remove special Codes\n",
    "Gemeinden['en_name'] = Gemeinden['en_name'].str[:-6]\n",
    "# Remove urban area, rural area and surroundings\n",
    "Gemeinden['en_name'] = Gemeinden['en_name'].str.replace(' ', '_').str.replace('_urban_area', '').str.replace('_surroundings', '').str.replace('_rural_area', '')\n",
    "# Change Col Names\n",
    "Gemeinden = Gemeinden.rename(columns = {'code':'Gemeinde'})\n",
    "Gemeinden = pd.DataFrame(Gemeinden)\n",
    "\n",
    "# Only select real Bezirke\n",
    "Gemeinden_work = Gemeinden[0:94]\n",
    "Gemeinden_work = pd.DataFrame(Gemeinden_work['en_name'])\n",
    "\n",
    "# Change Col name of Population\n",
    "Population = Population.rename(columns = {'C-H88-0':'year'})\n",
    "Population = Population.rename(columns = {'C-GRGEMAKT-0':'Gemeinde'})\n",
    "Population = Population.rename(columns = {'F-ISIS-1':'Bevölkerung'})\n",
    "\n",
    "# Change the years dataframe\n",
    "Years['name'] = Years['name'].str[0:4]\n",
    "Years = Years.rename(columns = {'code':'year'})"
   ]
  },
  {
   "cell_type": "markdown",
   "metadata": {},
   "source": [
    "## Crawl DBpedia\n",
    "Crawl DBpedia to get the altitude of the main cities per Bezirk."
   ]
  },
  {
   "cell_type": "code",
   "execution_count": null,
   "metadata": {},
   "outputs": [],
   "source": [
    "Gemeinden_work['hm'] = np.NaN\n",
    "for index, row in Gemeinden_work.iterrows():\n",
    "    search = Gemeinden_work.iloc[index,0]\n",
    "    try:\n",
    "        data = requests.get('http://dbpedia.org/data/%s.json' % search).json()\n",
    "        data = data['http://dbpedia.org/resource/%s' % search]\n",
    "        Gemeinden_work.iloc[index,1] = data['http://dbpedia.org/ontology/elevation'][0]['value']\n",
    "    except: continue"
   ]
  },
  {
   "cell_type": "markdown",
   "metadata": {},
   "source": [
    "## Add the missing values manually from a CSV\n",
    "Some cities were not found on DBpedia (19) - these are looked up manually and are now added."
   ]
  },
  {
   "cell_type": "code",
   "execution_count": null,
   "metadata": {},
   "outputs": [],
   "source": [
    "# Manually fill the remaining missing hm values\n",
    "# Some rural areas had to be assumed to be the same height as the main city (example Innsbruck Land got the height of Innsbruck)\n",
    "\n",
    "Gemeinden_hm = pd.merge(Gemeinden_work, MissingHM, on='en_name', how='left')\n",
    "Gemeinden_hm['hm_x'] = Gemeinden_hm['hm_x'].fillna(Gemeinden_hm['hm_y'])\n",
    "Gemeinden_hm = Gemeinden_hm[['en_name','hm_x']]\n",
    "Gemeinden_hm.dropna(axis=0,inplace=True)\n",
    "Gemeinden_hm.columns = ['en_name_y','hm']"
   ]
  },
  {
   "cell_type": "markdown",
   "metadata": {},
   "source": [
    "## Merge all the data and export it for 2011\n",
    "In the end a dataframe should exist that contains the name of the Bezirk, Population in 2011 and the altitude"
   ]
  },
  {
   "cell_type": "code",
   "execution_count": null,
   "metadata": {},
   "outputs": [],
   "source": [
    "interim = pd.merge(Population, Years, on='year', how='left')\n",
    "PopGemeinde = pd.merge(interim, Gemeinden, on='Gemeinde', how='left')\n",
    "PopGemeinde = pd.merge(PopGemeinde, Gemeinden_hm, on='en_name_y', how='left')\n",
    "PopGemeinde = PopGemeinde[['name_x', 'en_name_y', 'Bevölkerung', 'hm']]\n",
    "PopGemeinde.columns = ['Year', 'Bezirk','Population', 'altitude']\n",
    "PopGemeinde.dropna(axis=0,inplace=True)\n",
    "PopGemeinde.set_index('Year', inplace=True)"
   ]
  },
  {
   "cell_type": "code",
   "execution_count": null,
   "metadata": {},
   "outputs": [],
   "source": [
    "Pop2011 = PopGemeinde.loc['2011']\n",
    "Pop2011.sort_values('altitude',axis = 0, ascending = True, inplace=True)\n",
    "Pop2011['CumSum'] = Pop2011.loc[:,'Population'].cumsum()\n",
    "Pop2011['PercentPop'] = Pop2011.loc[:,'Population']/Pop2011.loc[:,'Population'].sum()\n",
    "Pop2011['CumPercentPop'] = Pop2011.loc[:,'Population'].cumsum()/Pop2011.loc[:,'Population'].sum()\n",
    "Pop2011.to_csv('./data/Population2011_altitude.csv', sep = ';')"
   ]
  }
 ],
 "metadata": {
  "kernelspec": {
   "display_name": "Python 3",
   "language": "python",
   "name": "python3"
  },
  "language_info": {
   "codemirror_mode": {
    "name": "ipython",
    "version": 3
   },
   "file_extension": ".py",
   "mimetype": "text/x-python",
   "name": "python",
   "nbconvert_exporter": "python",
   "pygments_lexer": "ipython3",
   "version": "3.7.3"
  }
 },
 "nbformat": 4,
 "nbformat_minor": 2
}
